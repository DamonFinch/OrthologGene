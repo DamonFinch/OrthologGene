{
 "cells": [
  {
   "cell_type": "markdown",
   "id": "cbb2bb7f",
   "metadata": {},
   "source": [
    "# Jupyter interface of OrthoSLC (0.1Beta)\n",
    "\n",
    "<b>OrthoSLC</b> is a pipline that perfomrs Reciprocal Best Blast Hit (RBBH) Single Linkage Clustering to obtain Orthologous Genes. <br>\n",
    "\n",
    "**Version change**:<br>\n",
    "Comparing with `0.1Alpha`, current version `0.1Beta` allow users to set `bin level`, in Step 5 and Step 6, with a linear style instead of exponatial style.\n",
    "\n",
    "This interface is python jupyter based to facilitate customized analysis. However, for datasets with 500 or more genomes, we still recommend using the binary files, which is mainly written in C++, for optimal performance.<br>\n",
    "\n",
    "It is: <br>\n",
    "* <b>independent</b> of relational database management systems (e.g., MySQL)\n",
    "* recommend to handle less genomes.\n",
    "\n",
    "It is recommended for sub-species level single copy core genome construction since RBBH may not work well for missions like Human-Microbe core genome construction. \n",
    "\n",
    "<b>Caveat:</b><br>\n",
    "The pipeline is currently only tested on Ubuntu 20.04 and 18.04.\n",
    "\n",
    "<b>Requirement:</b><br>\n",
    "Python3 (suggest newest stable release or higher),<br>\n",
    "NCBI Blast+ (suggest 2.12 or higher) <br>\n",
    "\n",
    "<b>Note:</b><br>\n",
    "For all steps, users do not need to make the ourput directory manually, program will do that for you.\n",
    "\n",
    "Bug report: \n",
    "* <jingjie.chencharly@gmail.com>"
   ]
  },
  {
   "cell_type": "code",
   "execution_count": null,
   "id": "4ff53b0a",
   "metadata": {},
   "outputs": [],
   "source": [
    "import os,sys\n",
    "import numpy as np\n",
    "import pandas as pd\n",
    "\n",
    "from multiprocessing import Lock, Process\n",
    "import subprocess\n",
    "import shutil\n",
    "# pip install biopython\n",
    "from Bio import SeqIO\n",
    "from Bio.SeqRecord import SeqRecord\n",
    "\n",
    "from collections import defaultdict\n",
    "\n",
    "import time"
   ]
  },
  {
   "cell_type": "markdown",
   "id": "4809cf0d",
   "metadata": {},
   "source": [
    "## Step 1 Genome information preparation\n",
    "The pipeline starts with annotated genomes in fasta format. FASTA file name require strain name and extension (e.g., `strain_A.ffn`, `strain_B.fna`, `strain_C.fasta` etc.).<br> \n",
    "Step 1 needs the **path to directory of annotated FASTA files** as input, to genereate a header less, tab separated table, in which the \n",
    "* first column is a short ID, \n",
    "* second column is the strain name, \n",
    "* third column as the absolute path. \n",
    "\n",
    "The short ID of each genome is generated to save computational resources and storage space. Since reciprocal BLAST generates a large volume of files (millions to billions of rows if large number of genomes participated), each row contains the names of the query and subject. If the user provides input FASTA file names like:\n",
    "\n",
    "* `GCA_900627445.1_PFR31F05_genomic.fasta`\n",
    "* `GCA_021980615.1_PDT001237823.1_genomic.fasta`\n",
    "\n",
    "and such file names become part of gene identifier instead of the short ID used in this program, additional 30 ~ 60 GB of storage will be consumed for intermediate files and even more pressure on computing memory for analysis of 1000~ genomes.\n",
    "\n"
   ]
  },
  {
   "cell_type": "markdown",
   "id": "90b5471d",
   "metadata": {},
   "source": [
    "### Set path\n",
    "* Set variable `raw_annotated_dir_path` to the path of directory of annoated FASTA files\n",
    "* Set variable `preparation_output_path` to the path of output tab separated files.<br>\n",
    "Then run the codes below [Step 1 execution](###step-1-execution)"
   ]
  },
  {
   "cell_type": "code",
   "execution_count": null,
   "id": "85af1412",
   "metadata": {},
   "outputs": [],
   "source": [
    "# set your own\n",
    "# directory path of input fastas\n",
    "raw_annotated_dir_path = ''\n",
    "# path of output tsv\n",
    "preparation_output_path = ''"
   ]
  },
  {
   "cell_type": "markdown",
   "id": "4443e22e",
   "metadata": {},
   "source": [
    "### Step 1 execution"
   ]
  },
  {
   "cell_type": "code",
   "execution_count": null,
   "id": "4829131f",
   "metadata": {
    "code_folding": []
   },
   "outputs": [],
   "source": [
    "start_c = 10000 \n",
    "\n",
    "with open(preparation_output_path, 'w') as pre_op:\n",
    "    for file_naam in os.listdir(raw_annotated_dir_path):\n",
    "        abs_path = os.path.join(raw_annotated_dir_path,\n",
    "                                file_naam\n",
    "                               )\n",
    "        \n",
    "        strain_naam = os.path.basename(abs_path)\n",
    "        strain_naam = os.path.splitext(strain_naam)[0]\n",
    "        \n",
    "        pre_op.write(str(start_c) \n",
    "                     + '\\t'\n",
    "                     + strain_naam\n",
    "                     + '\\t'\n",
    "                     + abs_path\n",
    "                     + '\\n'\n",
    "                    )\n",
    "        start_c += 1\n",
    "        \n",
    "pre_op.close()"
   ]
  },
  {
   "cell_type": "markdown",
   "id": "2b069571",
   "metadata": {},
   "source": [
    "## Step2 FASTA dereplication"
   ]
  },
  {
   "cell_type": "markdown",
   "id": "48c22052",
   "metadata": {},
   "source": [
    "Step 2 is to remove potential sequence duplication (e.g., copies of tRNA, some cds). This dereplication is equivalent to 100% clustering, to obtain single copy.<br>\n",
    "Step 2 **requires the tab separated table output by Step 1 as input**, and specifying a directory for dereplicated files.\n",
    "\n",
    "<b>Note</b>:<br>\n",
    "For users who are <b>100% sure</b> that your annotated files are already single copy, this step may be skipped.\n",
    "\n"
   ]
  },
  {
   "cell_type": "markdown",
   "id": "84ba4f12",
   "metadata": {},
   "source": [
    "### define functions"
   ]
  },
  {
   "cell_type": "code",
   "execution_count": null,
   "id": "d21f1e61",
   "metadata": {},
   "outputs": [],
   "source": [
    "def redundancy_rm_a_file(path_n_id_tup, # abs path of an input fasta\n",
    "                         rred_folder, # path to 100% clustered result\n",
    "                        ):\n",
    "    \n",
    "    in_fasta = SeqIO.parse(path_n_id_tup[0],\n",
    "                           'fasta'\n",
    "                          )\n",
    "    \n",
    "    strain_naam = os.path.basename(path_n_id_tup[0])\n",
    "    strain_naam = os.path.splitext(strain_naam)[0]\n",
    "    \n",
    "    short_id = path_n_id_tup[1]\n",
    "    \n",
    "    added_seq = set()\n",
    "    to_save = []\n",
    "    gene_id_c = 10000\n",
    "    \n",
    "    for SEQ in in_fasta:\n",
    "        if str(SEQ.seq) in added_seq:\n",
    "            continue\n",
    "        else:\n",
    "            to_save.append(SeqRecord(seq = SEQ.seq,\n",
    "                                     id = short_id + '-' + str(gene_id_c),\n",
    "                                     description = SEQ.description\n",
    "                                    )\n",
    "                          )\n",
    "            gene_id_c += 1\n",
    "            added_seq |= set([str(SEQ.seq)\n",
    "                             ] # set a list\n",
    "                            ) # add to set\n",
    "    \n",
    "    SeqIO.write(to_save, \n",
    "                os.path.join(os.path.abspath(rred_folder), \n",
    "                             strain_naam + '.fasta'\n",
    "                            ),\n",
    "                'fasta')\n",
    "\n",
    "def redundancy_rm_files(m_lst,\n",
    "                        rred_folder_\n",
    "                       ):\n",
    "    \n",
    "    for ab_fp in m_lst:\n",
    "        redundancy_rm_a_file(ab_fp, # to provide abs path\n",
    "                             rred_folder_\n",
    "                            )"
   ]
  },
  {
   "cell_type": "markdown",
   "id": "a40774f4",
   "metadata": {},
   "source": [
    "### Set path\n",
    "* Set variable `preparation_output_path` to the path of output tab separated files.\n",
    "* Set variable `dereped_dir_path` to the path to directory of dereplicated files.\n",
    "* Set variable `process_number` as thread number.\n",
    "Then run the codes below [Step 2 execution](###step-2-execution)"
   ]
  },
  {
   "cell_type": "code",
   "execution_count": null,
   "id": "a3cc64df",
   "metadata": {},
   "outputs": [],
   "source": [
    "# set your own\n",
    "# path of output tsv from Step1\n",
    "preparation_output_path = ''\n",
    "# directory path of output\n",
    "dereped_dir_path = ''\n",
    "# how many jobs to parallel\n",
    "process_number = 10"
   ]
  },
  {
   "cell_type": "markdown",
   "id": "45478fc6",
   "metadata": {},
   "source": [
    "### Step 2 execution"
   ]
  },
  {
   "cell_type": "code",
   "execution_count": null,
   "id": "7750d265",
   "metadata": {},
   "outputs": [],
   "source": [
    "print(time.asctime())\n",
    "\n",
    "if __name__ == \"__main__\":\n",
    "    \n",
    "    # mkdir or not\n",
    "    if os.path.exists(dereped_dir_path):\n",
    "        pass\n",
    "    else:\n",
    "        os.mkdir(dereped_dir_path)\n",
    "        \n",
    "    # read short id\n",
    "    strain_short_pth_n_id = []\n",
    "    \n",
    "    with open(preparation_output_path, 'r') as pre_op:\n",
    "        rls = pre_op.readlines()\n",
    "        \n",
    "        for l in rls:\n",
    "            l_ = l.split('\\t')\n",
    "            strain_short_pth_n_id.append((l_[2][0: -1], # key remove \\n\n",
    "                                          l_[0]\n",
    "                                         )\n",
    "                                        )\n",
    "        \n",
    "    pre_op.close()\n",
    "    \n",
    "    mission_lst = list(np.array_split(strain_short_pth_n_id, \n",
    "                                      process_number\n",
    "                                     )\n",
    "                      )\n",
    "    # mp\n",
    "    jobs = []\n",
    "    \n",
    "    for sub_mission_lst in mission_lst:\n",
    "    \n",
    "        p = Process(target = redundancy_rm_files,\n",
    "                    args = (sub_mission_lst, \n",
    "                            dereped_dir_path\n",
    "                           )\n",
    "                   )\n",
    "        p.start()\n",
    "        jobs.append(p)\n",
    "\n",
    "\n",
    "    for z in jobs:\n",
    "        z.join()\n",
    "        \n",
    "print(time.asctime())"
   ]
  },
  {
   "cell_type": "markdown",
   "id": "1731b1b3",
   "metadata": {},
   "source": [
    "### <font color=\"red\">Note before next step</font>\n",
    "After dereplication, users should give a careful check of <b>size</b> of dereplicated fasta files. It is worth noting that if a fasta file with a very low amount of sequences, getting processed together with all the rest, the final \"core\" clusters will be heavily affected and may bias your analysis.\n",
    "    \n",
    "Since the core genome construction is similar with intersection construction. <font color=\"red\"><b>It is recommend to remove some very small dereplicated fasta files BEFORE NEXT STEP</b>, e.g., remove all dereplicated <i>E.coli </i> genomes with file size lower than 2.5MB as most should be larger than 4.0MB.</font>"
   ]
  },
  {
   "cell_type": "markdown",
   "id": "cd173538",
   "metadata": {},
   "source": [
    "## Step 3 Sequence preparation"
   ]
  },
  {
   "cell_type": "markdown",
   "id": "a3b4c397",
   "metadata": {},
   "source": [
    "This step requires **path to directory of derplicated FASTA** to generate to 2 files:\n",
    "\n",
    "1. A FASTA file Combined from all dereplicated FASTA files.<br>\n",
    "2. A tab separated file of sequence length information of all records."
   ]
  },
  {
   "cell_type": "markdown",
   "id": "4d94d25c",
   "metadata": {},
   "source": [
    "### Set path\n",
    "* Set variable `dereped_dir_path` to the path to directory of dereplicated files.\n",
    "* Set variable `cated_fasta_path` as path to concatenated FASTA file.\n",
    "* Set variable `len_infor_path` as path to sequence length information table.\n",
    "\n",
    "Then run the codes below [Step 3 execution](###step-3-execution)"
   ]
  },
  {
   "cell_type": "code",
   "execution_count": null,
   "id": "796382f2",
   "metadata": {},
   "outputs": [],
   "source": [
    "# set your own\n",
    "# directory path of derepliacted fasta directory\n",
    "dereped_dir_path = ''\n",
    "# path save concatenated fasta\n",
    "cated_fasta_path = ''\n",
    "# path save sequence lenght of each sequence\n",
    "len_infor_path = ''"
   ]
  },
  {
   "cell_type": "markdown",
   "id": "866ff6a7",
   "metadata": {},
   "source": [
    "### Step 3 execution"
   ]
  },
  {
   "cell_type": "code",
   "execution_count": null,
   "id": "7acf61d2",
   "metadata": {},
   "outputs": [],
   "source": [
    "# length info\n",
    "length_info = open(len_infor_path, 'a')\n",
    "\n",
    "for fs in os.listdir(dereped_dir_path):\n",
    "    a_fasta_pth = os.path.join(dereped_dir_path, fs)\n",
    "    a_fasta = SeqIO.parse(a_fasta_pth, 'fasta')\n",
    "    \n",
    "    for seqs in a_fasta:\n",
    "        length_info.write(seqs.id \n",
    "                          + '\\t' \n",
    "                          +  str(len(seqs.seq)) \n",
    "                          + '\\n')\n",
    "        \n",
    "length_info.close()"
   ]
  },
  {
   "cell_type": "code",
   "execution_count": null,
   "id": "5d419eaf",
   "metadata": {},
   "outputs": [],
   "source": [
    "# concatenate all fastas\n",
    "input_files = os.listdir(dereped_dir_path)\n",
    "input_files = [os.path.join(dereped_dir_path, x) for x in input_files]\n",
    "\n",
    "with open(cated_fasta_path, 'w') as outfile:\n",
    "    for fs in input_files:\n",
    "        # Open the input file in read mode\n",
    "        with open(fs, 'r') as infile:\n",
    "            \n",
    "            shutil.copyfileobj(infile, outfile)\n",
    "            infile.close()\n",
    "            \n",
    "outfile.close()"
   ]
  },
  {
   "cell_type": "markdown",
   "id": "9c3ecd12",
   "metadata": {},
   "source": [
    "## Step4 Reciprocal Blast"
   ]
  },
  {
   "cell_type": "markdown",
   "id": "35a650de",
   "metadata": {},
   "source": [
    "Step 4 will carry out the Reciprocal Blast using NCBI Blast. You can get it from [NCBI official](https://ftp.ncbi.nlm.nih.gov/blast/executables/blast+/LATEST/)\n",
    " \n",
    "The pipeline will assist you to:<br>\n",
    "1. Create databases for each of all dereplicated genomes using `makeblastdb`.\n",
    "2. Using `blastn` or `blastp` to align the `concatenated.fasta` against each of the database just made and get tabular output.\n",
    "\n",
    "### makeblastdb\n",
    "To create database to BLAST, users should provide **path to directory where all dereplicated FASTA is**, and a **path to output directory where BLAST database is to store**.<br>"
   ]
  },
  {
   "cell_type": "markdown",
   "id": "56956031",
   "metadata": {},
   "source": [
    "#### define functions"
   ]
  },
  {
   "cell_type": "code",
   "execution_count": null,
   "id": "98a1e3c9",
   "metadata": {},
   "outputs": [],
   "source": [
    "def make_a_db(in_abs_pth, \n",
    "              db_dir_abs_pth, \n",
    "              dbtype,\n",
    "              makeblastdb_bin):\n",
    "#     if db folder exist\n",
    "    strain_naam = os.path.basename(in_abs_pth)\n",
    "    strain_naam = os.path.splitext(strain_naam)[0]\n",
    "    \n",
    "    save_dest = os.path.join(db_dir_abs_pth, strain_naam)\n",
    "    \n",
    "    if os.path.exists(save_dest):\n",
    "        pass\n",
    "    else:\n",
    "        os.mkdir(save_dest)\n",
    "        \n",
    "    save_naam = os.path.join(save_dest, strain_naam)\n",
    "        \n",
    "    subprocess.run([makeblastdb_bin, \n",
    "                    \"-dbtype\", dbtype, \n",
    "                    \"-in\", in_abs_pth,\n",
    "                    \"-out\", save_naam,\n",
    "                    \"-parse_seqids\"\n",
    "                   ])\n",
    "    \n",
    "def make_dbs(in_abs_pth_lst,\n",
    "             db_dir_abs_pth_,\n",
    "             dbtype_,\n",
    "             makeblastdb_bin_):\n",
    "    for s in in_abs_pth_lst:\n",
    "        make_a_db(s, \n",
    "                  db_dir_abs_pth_, \n",
    "                  dbtype_,\n",
    "                  makeblastdb_bin_)"
   ]
  },
  {
   "cell_type": "markdown",
   "id": "fc78b92e",
   "metadata": {},
   "source": [
    "#### Set path\n",
    "* Set variable `dereped_dir_path` to the path to directory of dereplicated files.\n",
    "* Set variable `blastdb_dir_path` as path to directory to store generated databases.\n",
    "* Set variable `process_number` thread number.\n",
    "* Set variable `dbt` as the tpye of database to make.\n",
    "* Set variable `mbdb` to the path to makeblastdb command.\n",
    "\n",
    "Then run the codes below [makeblastdb](###makeblastdb)"
   ]
  },
  {
   "cell_type": "markdown",
   "id": "88f77ca8",
   "metadata": {},
   "source": [
    "In case you have installed your blast but not exported to `$PATH`, you can simply input `whereis blastn` or `whereis makeblastdb` to get the full path to your blast binary file.<br>"
   ]
  },
  {
   "cell_type": "code",
   "execution_count": null,
   "id": "a1564588",
   "metadata": {
    "scrolled": false
   },
   "outputs": [],
   "source": [
    "! whereis makeblastdb"
   ]
  },
  {
   "cell_type": "code",
   "execution_count": null,
   "id": "85fef8dc",
   "metadata": {},
   "outputs": [],
   "source": [
    "# set your own\n",
    "# directory path of output\n",
    "dereped_dir_path = ''\n",
    "# directory path of blastdb\n",
    "blastdb_dir_path = ''\n",
    "# how many jobs to parallel\n",
    "process_number = 10\n",
    "# set dbtype: nucl or prot\n",
    "dbt = 'nucl'\n",
    "# set path to makblastdb bin file\n",
    "mbdb = 'makeblastdb'"
   ]
  },
  {
   "cell_type": "markdown",
   "id": "176543b8",
   "metadata": {},
   "source": [
    "#### makeblastdb"
   ]
  },
  {
   "cell_type": "code",
   "execution_count": null,
   "id": "0d90faf8",
   "metadata": {
    "scrolled": true
   },
   "outputs": [],
   "source": [
    "print(time.asctime())\n",
    "\n",
    "if __name__ == \"__main__\":\n",
    "    \n",
    "    # mkdir or not\n",
    "    if os.path.exists(blastdb_dir_path):\n",
    "        pass\n",
    "    else:\n",
    "        os.mkdir(blastdb_dir_path)\n",
    "    \n",
    "    mission_lst = os.listdir(dereped_dir_path)\n",
    "    \n",
    "    mission_lst = [os.path.join(dereped_dir_path, x) for x in mission_lst]\n",
    "    \n",
    "    mission_lst = list(np.array_split(mission_lst, \n",
    "                                      process_number\n",
    "                                     )\n",
    "                      )\n",
    "    \n",
    "    # mp\n",
    "    jobs = []\n",
    "    \n",
    "    for sub_mission_lst in mission_lst:\n",
    "    \n",
    "        p = Process(target = make_dbs,\n",
    "                    args = (sub_mission_lst, \n",
    "                            blastdb_dir_path, \n",
    "                            dbt,\n",
    "                            mbdb\n",
    "                           )\n",
    "                   )\n",
    "        p.start()\n",
    "        jobs.append(p)\n",
    "\n",
    "\n",
    "    for z in jobs:\n",
    "        z.join()\n",
    "        \n",
    "print(time.asctime())"
   ]
  },
  {
   "cell_type": "markdown",
   "id": "cbae27af",
   "metadata": {},
   "source": [
    "### Reciprocal Blast"
   ]
  },
  {
   "cell_type": "markdown",
   "id": "ff32315c",
   "metadata": {},
   "source": [
    "To perform reciprocal BLAST, users should provide **path to concatenated FASTA producd by step 3**, **path to directory where databases made by `makeblastdb`**, and a **path to output directory where BLAST tabular output** is to store.<br>\n",
    "\n",
    "The reason to BLAST against each database sequentially rather than directly using an all-vs-all approach is to \n",
    "reduce computational overhead. This can be very useful if the task involves many genomes. For example, if you have 1000 dereplicated genomes to analyze, the total size of concatenated FASTA may reach 5-10 GB. A multi-threaded BLAST job using the `-mt_mode 1` by all-vs-all style could be too memory-intensive to run for such a large dataset.\n",
    "\n",
    "In addition, sequentially running BLAST will produce one tabular output per database. This will be a better adaptation for the job parallelization of finding reciprocal best hits in later steps, which will apply the hash binning method."
   ]
  },
  {
   "cell_type": "markdown",
   "id": "42607866",
   "metadata": {},
   "source": [
    "#### define function"
   ]
  },
  {
   "cell_type": "code",
   "execution_count": null,
   "id": "15d1564d",
   "metadata": {},
   "outputs": [],
   "source": [
    "def sequential_blast(catted_fasta_pth,\n",
    "                     db_pth, # alread abs\n",
    "                     blast_res_dir, # already abs\n",
    "                     blast_bin,\n",
    "                     e_value, \n",
    "                     t_num):\n",
    "#   get db name to blast\n",
    "    strain_naam = db_pth.split('/')[-1]\n",
    "    \n",
    "    db_name = os.path.join(db_pth, strain_naam)\n",
    "    save_dest = os.path.join(blast_res_dir, strain_naam + '.tab')\n",
    "        \n",
    "    subprocess.run([blast_bin, \n",
    "                    \"-query\", catted_fasta_pth,\n",
    "                    \"-db\", db_name,\n",
    "                    \"-out\", save_dest,\n",
    "                    \"-evalue\", str(e_value),\n",
    "                    \"-max_hsps\", \"1\",\n",
    "                    \"-dust\", \"no\",\n",
    "                    \"-outfmt\", str(\"6 qseqid sseqid score\"),\n",
    "                    \"-mt_mode\", \"1\",\n",
    "                    \"-num_threads\", t_num\n",
    "                   ])"
   ]
  },
  {
   "cell_type": "code",
   "execution_count": null,
   "id": "cab8067e",
   "metadata": {},
   "outputs": [],
   "source": [
    "! whereis blastn"
   ]
  },
  {
   "cell_type": "markdown",
   "id": "46ca3146",
   "metadata": {},
   "source": [
    "#### Set path\n",
    "* Set variable `cated_fasta_path` to the path of concatenated FASTA produced by Step 3.\n",
    "* Set variable `blastdb_dir_path` as path to directory to store generated databases.\n",
    "* Set variable `process_number` thread number.\n",
    "* Set variable `E_value` as e value parameter during BLAST.\n",
    "* Set variable `blast_bin_` to the path to BLAST command.\n",
    "* Set variable `blast_op_dir` to the path of directory to save BLAST output.\n",
    "\n",
    "Then run the codes below [BLAST](###BLAST)"
   ]
  },
  {
   "cell_type": "code",
   "execution_count": null,
   "id": "c562dbb1",
   "metadata": {},
   "outputs": [],
   "source": [
    "# set your own\n",
    "# path to concatenated fasta\n",
    "cated_fasta_path = ''\n",
    "# directory path of blastdb\n",
    "blastdb_dir_path = ''\n",
    "# how many jobs to parallel\n",
    "process_number = \"10\"\n",
    "# set e_value\n",
    "E_value = 1e-5\n",
    "# set path to blast bin file\n",
    "blast_bin_ = 'blastn'\n",
    "# set blast output directory\n",
    "blast_op_dir = ''"
   ]
  },
  {
   "cell_type": "markdown",
   "id": "79fdaf2c",
   "metadata": {},
   "source": [
    "#### BLAST"
   ]
  },
  {
   "cell_type": "code",
   "execution_count": null,
   "id": "1214c377",
   "metadata": {},
   "outputs": [],
   "source": [
    "# mkdir or not\n",
    "\n",
    "if os.path.exists(blast_op_dir):\n",
    "    pass\n",
    "else:\n",
    "    os.mkdir(blast_op_dir)\n",
    "    \n",
    "    \n",
    "mission_lst = os.listdir(blastdb_dir_path)\n",
    "mission_lst = [os.path.join(blastdb_dir_path, x) for x in mission_lst]\n",
    "\n",
    "for db in mission_lst:\n",
    "    sequential_blast(cated_fasta_path, \n",
    "                     db, \n",
    "                     blast_op_dir, \n",
    "                     blast_bin_, \n",
    "                     E_value, \n",
    "                     process_number)"
   ]
  },
  {
   "cell_type": "markdown",
   "id": "6dab47ad",
   "metadata": {},
   "source": [
    "## Step 5 filtering and hash binning "
   ]
  },
  {
   "cell_type": "markdown",
   "id": "455853b6",
   "metadata": {},
   "source": [
    "This step is to filter the blast output and to apply hash binning, in order to provide best preparation for reciprocal best find.<br>\n",
    "\n",
    "Step 5 requires **path to directory of BLAST tabular output as input**, **sequence length information output by Step 3**.\n",
    "\n",
    "The pipeline will carry out following treatment to BLAST output:\n",
    "1. Paralog removal: <br>\n",
    "If query and subject is from same strain, the hit will be skipped, as to remove paralog.\n",
    "2. Length ratio filtering:<br>\n",
    "Within a hit, query length $Q$ and subject length $S$, the ratio $v$ of this 2 length\n",
    "\n",
    "$$v = \\frac{Q}{S}$$\n",
    "\n",
    "should be within a range $r$, according to [L. Salichos et al](https://journals.plos.org/plosone/article?id=10.1371/journal.pone.0018755), $r$ is recommended to be higher than 0.3 which means the shorter sequence should not be shorter than 30% of the longer sequence:\n",
    "\n",
    "$$r < v < \\frac{1}{r}$$<br>\n",
    "\n",
    "If above condition not met, the hit will be removed from analysis.\n",
    "\n",
    "3. Non-best-hit removal: <br>\n",
    "If a query has more than 1 subject hits, only the query-subject pair with highest score will then be kept.\n",
    "4. Sorting and binning:<br>\n",
    "For every kept hit, its query and subject will be sorted using Python or C++ built in sort algorithm. This is because in a sequential blast output file, only \"<b>single direction best hit</b>\" can be obtained, its \"<b>reciprocal best hit</b>\" only exist in other files, which poses difficulty doing \"<b>repriprocal finding</b>\". <br>\n",
    "However, if a query $a$ and its best suject hit $b$, passed filter above, and form $(a, b)$, and in the mean time we sort its rericprocal hit $(b, a)$ from another file into $(a, b)$, then both $(a, b)$ will generate same hash value. This hashed value with last several digits will allow us to bin them into same new file. Therefore, after this binning, \"<b>reciprocal finding</b>\" will be turned into \"<b>duplication finding</b>\" within one same file.<br>\n",
    "\n",
    "<font color=\"red\"><b>Set bin level:</b></font><br>\n",
    "According to the amount of genomes to analysze, user should provide binning level, which is to set how many bins should be used. Level $L$ should be interger within range $0 < L \\le 9999$, and will generate $L$ bins. \n",
    "\n",
    "Suggestion is that do not set the bin level too high, especially when less than 200 genomes participated. If such amount of genomes participated analysis, bin level 10 to 100 should work as most efficient way. \n",
    "\n",
    "As tested, an analysis of 30 genomes, has 30 BLAST output after step 4. \n",
    "* A bin level of 10, takes 7 seconds to finish, \n",
    "* a bin level of 100, takes 10 seconds to finish,\n",
    "* a bin level of 1000, takes 24 seconds to finish,\n",
    "\n",
    "<font color=\"red\"><b>When to set a high bin level:</b></font><br>\n",
    "Simply speaking, when you have really larger amount of genomes and not enough memory (e.g., more than 1000 genomes and less than 100 GB memory) <br>\n",
    "\n",
    "The output of BLAST for 1000 genomes can reach 200 GB in size, and if the bin level is set to 2, there will be 100 bins to evenly distribute the data. On average, each bin will contain 1.7 GB of data, which may be too memory-intensive to process in step 6, where reciprocal find is performed (which requires approximately 1.7 GB of memory per bin). However, if the number of bins is increased to 1000, the size of each bin will be reduced to between 100-200 MB, which then facilitate step 6 parallelization.\n",
    "\n",
    "<font color=\"red\"><b>Note:</b></font><br>\n",
    "This is the one of the most computation and I/O intensive step, use the C++ based binary file to process for better efficiency."
   ]
  },
  {
   "cell_type": "markdown",
   "id": "e9242361",
   "metadata": {},
   "source": [
    "### define functions"
   ]
  },
  {
   "cell_type": "code",
   "execution_count": null,
   "id": "fac1b8f9",
   "metadata": {},
   "outputs": [],
   "source": [
    "def fileter_n_bin(in_blast_op_pt_lst, # to avoid redundant copy of  seqlen info, abs pth\n",
    "                  r, \n",
    "                  bin_level, \n",
    "                  bin_op_dir, # already abs\n",
    "                  seq_len_info,\n",
    "                  LOCKS):\n",
    "    for fs in in_blast_op_pt_lst:\n",
    "        \n",
    "        f = open(fs, 'r')\n",
    "            \n",
    "        d = {}\n",
    "        \n",
    "        while True:\n",
    "            l_ = f.readline()\n",
    "            if l_ == '':\n",
    "                break\n",
    "                \n",
    "            l_ = l_.split('\\t')\n",
    "            \n",
    "            query = l_[0]\n",
    "            subject = l_[1]\n",
    "            \n",
    "            if query[0: 5] == subject[0: 5]: # if paralog \n",
    "                continue\n",
    "            else:\n",
    "                len_ration = seq_len_info.loc[query, 1]/seq_len_info.loc[subject, 1]\n",
    "                c1 = len_ration < r\n",
    "                c2 = len_ration > (1/r)\n",
    "                \n",
    "                if c1 or c2: # len ratio filter\n",
    "                    continue\n",
    "                    \n",
    "                else:\n",
    "                    score = int(l_[2])\n",
    "                    if query in d.keys(): # if already a hit\n",
    "                        if score > d[query][1]:# if a better hit\n",
    "                            d[query] = (subject, score) # replace\n",
    "                            \n",
    "                        elif score == d[query][1]: # if same score\n",
    "                            query_len = seq_len_info.loc[query, 1]\n",
    "                            \n",
    "                            len1 = seq_len_info.loc[subject, 1] - query_len # len of sub just readin\n",
    "                            len2 = seq_len_info.loc[d[query][0], 1] - query_len # len of existing sub of the query\n",
    "                            if abs(len1) < abs(len2): # if len more similar \n",
    "                                d[query] = (subject, score) # replace\n",
    "                        else:\n",
    "                            pass\n",
    "                    else: # if no hit before\n",
    "                        d[query] = (subject, score)\n",
    "                        \n",
    "        f.close()\n",
    "        \n",
    "        # after all\n",
    "        d2 = defaultdict(list)\n",
    "        \n",
    "        for recs in d.keys():\n",
    "            q = recs\n",
    "            s = d[q][0]\n",
    "            \n",
    "            sorting = sorted((q, s))\n",
    "            \n",
    "            bin_ = hash(tuple(sorting\n",
    "                                    )\n",
    "                             ) % bin_level\n",
    "\n",
    "            bin_ = str(bin_)\n",
    "            \n",
    "            d2[bin_].append(sorting[0] + '\\t' + sorting[1] + '\\n')\n",
    "            \n",
    "        for b in d2.keys():\n",
    "            LOCKS[int(b)].acquire()\n",
    "            \n",
    "            f = open(os.path.join(bin_op_dir, b + '.txt'), 'a')\n",
    "            \n",
    "            f.writelines(d2[b])\n",
    "            \n",
    "            f.close()\n",
    "            LOCKS[int(b)].release()"
   ]
  },
  {
   "cell_type": "markdown",
   "id": "f82a4c1c",
   "metadata": {},
   "source": [
    "### Set path\n",
    "* Set variable `process_number` thread number.\n",
    "* Set variable `b_level` as how many bins to generate.\n",
    "* Set variable `r_` as the limit of length difference ratio.\n",
    "* Set variable `blast_op_dir` to the path of directory to save BLAST output.\n",
    "* Set len_infor_path `bin_op_dir_` to the path of output directory.\n",
    "\n",
    "Then run the codes below [Step 5 execution](###Step-5-execution)"
   ]
  },
  {
   "cell_type": "code",
   "execution_count": null,
   "id": "78883cc2",
   "metadata": {},
   "outputs": [],
   "source": [
    "# set your own\n",
    "# set blast output directory\n",
    "blast_op_dir = ''\n",
    "# how many jobs to parallel\n",
    "process_number = 10\n",
    "# set bin level\n",
    "b_level = 10\n",
    "# set length ration limit r value \n",
    "r_ = 0.3\n",
    "# set blast output directory\n",
    "bin_op_dir_ = ''\n",
    "# path save sequence lenght of each sequence\n",
    "len_infor_path = ''"
   ]
  },
  {
   "cell_type": "markdown",
   "id": "7d62eba6",
   "metadata": {},
   "source": [
    "### Step 5 execution"
   ]
  },
  {
   "cell_type": "code",
   "execution_count": null,
   "id": "1d2e9514",
   "metadata": {
    "scrolled": true
   },
   "outputs": [],
   "source": [
    "if b_level < 0 or b_level > 9999 or not isinstance(b_level, int):\n",
    "    print('b_level must be integer within range 0 < L <= 9999')\n",
    "    sys.exit()\n",
    "\n",
    "# mkdir or not\n",
    "bin_op_dir_ = os.path.abspath(bin_op_dir_)\n",
    "\n",
    "if os.path.exists(bin_op_dir_):\n",
    "    pass\n",
    "else:\n",
    "    os.mkdir(bin_op_dir_)\n",
    "\n",
    "    \n",
    "len_infor_path = os.path.abspath(len_infor_path)\n",
    "seq_len_df = pd.read_csv(len_infor_path, \n",
    "                         sep='\\t',\n",
    "                         header = None,\n",
    "                         dtype = {\n",
    "                             0: 'str',\n",
    "                             1: 'int'\n",
    "                         }\n",
    "                        ).set_index([0])\n",
    "\n",
    "print(time.asctime())\n",
    "\n",
    "if __name__ == \"__main__\":\n",
    "    \n",
    "    mission_lst = os.listdir(blast_op_dir)\n",
    "    \n",
    "    mission_lst = [os.path.join(blast_op_dir, x) for x in mission_lst]\n",
    "    \n",
    "    mission_lst = list(np.array_split(mission_lst, \n",
    "                                      process_number\n",
    "                                     )\n",
    "                      )\n",
    "    \n",
    "    # mp\n",
    "    locks = [Lock() for i in range(b_level)]\n",
    "    \n",
    "    jobs = []\n",
    "    \n",
    "    for sub_mission_lst in mission_lst:\n",
    "    \n",
    "        p = Process(target = fileter_n_bin,\n",
    "                    args = (sub_mission_lst, \n",
    "                            r_, \n",
    "                            b_level,\n",
    "                            bin_op_dir_,\n",
    "                            seq_len_df,\n",
    "                            locks\n",
    "                           )\n",
    "                   )\n",
    "        p.start()\n",
    "        jobs.append(p)\n",
    "\n",
    "\n",
    "    for z in jobs:\n",
    "        z.join()\n",
    "        \n",
    "print(time.asctime())"
   ]
  },
  {
   "cell_type": "markdown",
   "id": "8a7cda45",
   "metadata": {},
   "source": [
    "## Step6 Reciprocal Best find"
   ]
  },
  {
   "cell_type": "markdown",
   "id": "84c1e6fb",
   "metadata": {},
   "source": [
    "This Step is to find reciprocal best hits. In `Step5`, query-subject pairs had been binned into different files according to their hash value, therefore, pair $(a, b)$ and its reciprocal pair $(b, a)$ (which was sorted into $(a, b)$), will be in the same bin. Thus, a pair found twice in a bin will be reported as a reciprocal best blast pair.\n",
    "\n",
    "In addition, Step 6 also does hash binning after a reciprocal best hit is comfirmed. Query-subject pairs will be binned by the hash value of query ID, which then put pairs with common elements into same bin to assist faster clustering in next step.\n",
    "\n",
    "Step 6 requires **path to directory of bins output by Step 5**, and path to output directory.\n",
    "\n",
    "\n",
    "<font color=\"red\"><b>Set bin level:</b></font><br>\n",
    "According to the amount of genomes to analysze, user should provide binning level, which is to set how many bins should be used. Level  $0 < L \\le 9999$, and will generate $L$ bins. \n",
    "\n",
    "Suggestion is that do not set the bin level too high, especially when less than 200 genomes participated. If such amount of genomes participated analysis, bin level 10 to 100 should work as most efficient way. \n",
    "\n",
    "As tested, 30 genomes, if 10 bins generated by Step 5: \n",
    "* A bin level of 10, takes 1 seconds to finish, \n",
    "* a bin level of 100, takes 2 seconds to finish,\n",
    "* a bin level of 1000, takes 7 seconds to finish,\n",
    "\n",
    "<font color=\"red\"><b>When to set a high bin level:</b></font><br>\n",
    "Simply speaking, when you have really larger amount of genomes and not enough memory (e.g., more than 1000 genomes and less than 100 GB memory) <br>\n",
    "\n",
    "Less bins could make step 6 faster, but step 7 more memory intensive.\n",
    "\n",
    "<font color=\"red\"><b>Note:</b></font><br>\n",
    "This is the one of the most computation and I/O intensive step, use the C++ based binary file to process for better efficiency."
   ]
  },
  {
   "cell_type": "markdown",
   "id": "0ab70564",
   "metadata": {},
   "source": [
    "### define functions"
   ]
  },
  {
   "cell_type": "code",
   "execution_count": null,
   "id": "a202e40e",
   "metadata": {},
   "outputs": [],
   "source": [
    "def dup_find_mem(in_file_lst, RBB_op_dir, bin_level, LOCKS):\n",
    "    for in_file in in_file_lst:\n",
    "        naam = os.path.basename(in_file)\n",
    "\n",
    "        f = open(in_file, 'r')\n",
    "\n",
    "        rec = set()\n",
    "        d_bin = defaultdict(list)\n",
    "\n",
    "        while True:\n",
    "            l_ = f.readline()\n",
    "            if l_ == '':\n",
    "                break\n",
    "\n",
    "            if l_ in rec:\n",
    "                hash_res = str(hash(l_.split('\\t')[0]\n",
    "                                   ) % bin_level\n",
    "                              )\n",
    "                d_bin[hash_res].append(l_)\n",
    "                rec.remove(l_)\n",
    "            else:\n",
    "                rec |= set([l_])\n",
    "\n",
    "        f.close()\n",
    "\n",
    "        for b in d_bin.keys():\n",
    "            LOCKS[int(b)].acquire()\n",
    "\n",
    "            f2 = open(os.path.join(RBB_op_dir, b + '.txt'), 'a')\n",
    "\n",
    "            f2.writelines(d_bin[b])\n",
    "\n",
    "            f2.close()\n",
    "            LOCKS[int(b)].release()"
   ]
  },
  {
   "cell_type": "markdown",
   "id": "4c71e43b",
   "metadata": {},
   "source": [
    "#### Set path\n",
    "* Set variable `bin_op_dir_` as path to directory to bins generated by Step 5.\n",
    "* Set variable `RBB_op_dir_pth` as path to output directory.\n",
    "* Set variable `process_number` thread number.\n",
    "* Set variable `b_level` as how many bins to generate\n",
    "\n",
    "Then run the codes below [Step 6 execution](###Step-6-execution)"
   ]
  },
  {
   "cell_type": "code",
   "execution_count": null,
   "id": "9b96b72f",
   "metadata": {},
   "outputs": [],
   "source": [
    "# set blast output directory\n",
    "bin_op_dir_ = ''\n",
    "# set reciprocal best output directory\n",
    "RBB_op_dir_pth = ''\n",
    "# how many jobs to parallel\n",
    "process_number = 10\n",
    "# set bin level\n",
    "b_level = 10"
   ]
  },
  {
   "cell_type": "markdown",
   "id": "8ea4ee5c",
   "metadata": {},
   "source": [
    "### Step 6 execution "
   ]
  },
  {
   "cell_type": "code",
   "execution_count": null,
   "id": "9fcafef2",
   "metadata": {},
   "outputs": [],
   "source": [
    "if b_level < 0 or b_level > 9999 or not isinstance(b_level, int):\n",
    "    print('b_level must be integer within range 0 < L <= 9999')\n",
    "    sys.exit()\n",
    "\n",
    "# mkdir or not\n",
    "if os.path.exists(RBB_op_dir_pth):\n",
    "    pass\n",
    "else:\n",
    "    os.mkdir(RBB_op_dir_pth)\n",
    "\n",
    "print(time.asctime())\n",
    "\n",
    "if __name__ == \"__main__\":\n",
    "    \n",
    "    mission_lst = os.listdir(bin_op_dir_)\n",
    "    \n",
    "    mission_lst = [os.path.join(bin_op_dir_, x) for x in mission_lst]\n",
    "    \n",
    "    mission_lst = list(np.array_split(mission_lst, \n",
    "                                      process_number\n",
    "                                     )\n",
    "                      )\n",
    "    \n",
    "    # mp\n",
    "    locks = [Lock() for i in range(b_level)\n",
    "            ]\n",
    "             \n",
    "    jobs = []\n",
    "    \n",
    "    for sub_mission_lst in mission_lst:\n",
    "        \n",
    "        p = Process(target = dup_find_mem,\n",
    "                    args = (sub_mission_lst,\n",
    "                            RBB_op_dir_pth,\n",
    "                            b_level,\n",
    "                            locks\n",
    "                           )\n",
    "                   )\n",
    "            \n",
    "        p.start()\n",
    "        jobs.append(p)\n",
    "\n",
    "\n",
    "    for z in jobs:\n",
    "        z.join()\n",
    "        \n",
    "print(time.asctime())"
   ]
  },
  {
   "cell_type": "markdown",
   "id": "b5d5f5e9",
   "metadata": {},
   "source": [
    "## Step7 Single Linkage Clustering"
   ]
  },
  {
   "cell_type": "markdown",
   "id": "ca6bc37b",
   "metadata": {},
   "source": [
    "This step will carry out single linkage clustering on output from step6. Users may perform \"<b>multi-step-to-final</b>\" or \"<b>one-step-to-final</b>\" clustering by adjusting the `compression_size` parameter. In the final cluster file, each row is a cluster (stopped by \"\\n\") and each gene ID is separated by \"\\t\".\n",
    "\n",
    "In case that large amount genomes participated analysis, it could be memory intensive to reach final cluster in a single step. The pipeline provide ability to extenuate such pressure by reaching final cluster with multiple steps."
   ]
  },
  {
   "cell_type": "markdown",
   "id": "9794c7c6",
   "metadata": {},
   "source": [
    "### define functions"
   ]
  },
  {
   "cell_type": "code",
   "execution_count": null,
   "id": "901989ef",
   "metadata": {
    "code_folding": []
   },
   "outputs": [],
   "source": [
    "def connect_bin(bin_ind_lst, ind):\n",
    "    while bin_ind_lst[ind] != ind:\n",
    "        ind = bin_ind_lst[ind]\n",
    "    return ind\n",
    "\n",
    "def ptr_like_merger(in_p_lst, op_dir):\n",
    "    \n",
    "    ptr_coll = dict()\n",
    "    bin_inds_connector = []\n",
    "    \n",
    "    to_save_lst = []\n",
    "    \n",
    "    const_ind_every = 0\n",
    "    \n",
    "    for in_p in in_p_lst[1]:\n",
    "        f = open(in_p, 'r')\n",
    "    \n",
    "        while True:\n",
    "            l_ = f.readline()\n",
    "\n",
    "            if l_ == '':\n",
    "                break\n",
    "\n",
    "            l_ = set(l_.rstrip('\\n').split('\\t'))\n",
    "\n",
    "            ind_to_go = const_ind_every\n",
    "            to_save_lst.append(l_)\n",
    "            bin_inds_connector.append(ind_to_go)\n",
    "\n",
    "            for ele in l_:\n",
    "                if ele not in ptr_coll.keys():\n",
    "                    ptr_coll[ele] = ind_to_go\n",
    "\n",
    "                else:\n",
    "                    its_lowest_bin_ind = connect_bin(bin_inds_connector, \n",
    "                                                     ptr_coll[ele]\n",
    "                                                    )\n",
    "\n",
    "                    if its_lowest_bin_ind == ind_to_go:\n",
    "                        continue\n",
    "\n",
    "                    if its_lowest_bin_ind > ind_to_go:\n",
    "                        its_lowest_bin_ind, ind_to_go = ind_to_go, its_lowest_bin_ind\n",
    "\n",
    "                    to_save_lst[its_lowest_bin_ind] |= to_save_lst[ind_to_go]\n",
    "                    to_save_lst[ind_to_go] = None\n",
    "\n",
    "                    bin_inds_connector[ind_to_go] = its_lowest_bin_ind\n",
    "                    ind_to_go = its_lowest_bin_ind\n",
    "\n",
    "\n",
    "            const_ind_every += 1\n",
    "\n",
    "        f.close()\n",
    "        \n",
    "    f2 = open(os.path.join(op_dir, str(in_p_lst[0]) + '.txt'), 'w')\n",
    "    for i in to_save_lst:\n",
    "        if i:\n",
    "            i = tuple(i)\n",
    "            Len = len(i)\n",
    "            for j in list(range(Len)):\n",
    "                if j == Len - 1: \n",
    "                    f2.write(i[j] + '\\n')\n",
    "                else:\n",
    "                    f2.write(i[j] + '\\t')\n",
    "        else:\n",
    "            pass\n",
    "    f2.close()\n",
    "                \n",
    "def files_clustering_s(in_p_lst_lst, op_dir_):\n",
    "    \n",
    "    for inp_lst in in_p_lst_lst:\n",
    "        ptr_like_merger(inp_lst, op_dir_)\n",
    "        \n",
    "def SLC(ip, op, proc_num, c_s):\n",
    "    if os.path.exists(op):\n",
    "        pass\n",
    "    else:\n",
    "        os.mkdir(op)\n",
    "\n",
    "    print(time.asctime())\n",
    "\n",
    "    if __name__ == \"__main__\":\n",
    "\n",
    "        mission_lst = os.listdir(ip)\n",
    "\n",
    "        if c_s > len(mission_lst):\n",
    "            print('Error: Compression size can only be smaller than ' + str(len(mission_lst)))\n",
    "        else:\n",
    "\n",
    "            mission_lst = [os.path.join(ip, x) for x in mission_lst]\n",
    "            \n",
    "            per = len(mission_lst)//c_s\n",
    "\n",
    "            mission_lst = list(np.array_split(mission_lst, \n",
    "                                              per\n",
    "                                             )\n",
    "                               )\n",
    "\n",
    "            x = 0\n",
    "            mission_lst_ = []\n",
    "            for i in mission_lst:\n",
    "                mission_lst_.append([x, i])\n",
    "                x += 1\n",
    "\n",
    "            if len(mission_lst_) < proc_num:\n",
    "                proc_num = len(mission_lst_)\n",
    "\n",
    "\n",
    "            mission_lst_ = list(np.array_split(mission_lst_, \n",
    "                                               proc_num\n",
    "                                              )\n",
    "                               )\n",
    "            # mp\n",
    "            jobs = []\n",
    "            \n",
    "\n",
    "            for sub_mission_lst in mission_lst_:\n",
    "\n",
    "                p = Process(target = files_clustering_s,\n",
    "                            args = (sub_mission_lst,\n",
    "                                    op\n",
    "                                   )\n",
    "                           )\n",
    "                p.start()\n",
    "                jobs.append(p)\n",
    "\n",
    "\n",
    "            for z in jobs:\n",
    "                z.join()\n",
    "\n",
    "        print(time.asctime())"
   ]
  },
  {
   "cell_type": "markdown",
   "id": "33a2c50e",
   "metadata": {},
   "source": [
    "### Example to reach final cluster by multi step, starting with 1000 input files."
   ]
  },
  {
   "cell_type": "markdown",
   "id": "f3dbe221",
   "metadata": {},
   "source": [
    "#### Set path\n",
    "* Set variable `RBB_op_dir_pth` as path to output directory.\n",
    "* Set variable `SLC_inter_op_dir_pth` as path to output directory.\n",
    "* Set variable `process_number` thread number.\n",
    "* Set variable `compression_size` as how many files to cluster into one file."
   ]
  },
  {
   "cell_type": "code",
   "execution_count": null,
   "id": "28c7b0c3",
   "metadata": {},
   "outputs": [],
   "source": [
    "# set reciprocal best output directory\n",
    "RBB_op_dir_pth = 'Step6_op'\n",
    "# set path to directory of clustering output\n",
    "SLC_inter_op_dir_pth = 'SLC_1/'\n",
    "# how many jobs to parallel\n",
    "process_number = 10\n",
    "# Compression size\n",
    "compression_size = 1"
   ]
  },
  {
   "cell_type": "markdown",
   "id": "af4d1501",
   "metadata": {},
   "source": [
    "Then run the codes below."
   ]
  },
  {
   "cell_type": "code",
   "execution_count": null,
   "id": "3f72949b",
   "metadata": {},
   "outputs": [],
   "source": [
    "SLC(RBB_op_dir_pth, SLC_inter_op_dir_pth, process_number, compression_size)"
   ]
  },
  {
   "cell_type": "markdown",
   "id": "b33e9dac",
   "metadata": {},
   "source": [
    "#### Set path\n",
    "* Set variable `ip_dir_pth` as path to output directory of last round clustering.\n",
    "* Set variable `SLC_inter_op_dir_pth` as path to output directory.\n",
    "* Set variable `process_number` thread number.\n",
    "* Set variable `compression_size` as how many files to cluster into one file."
   ]
  },
  {
   "cell_type": "code",
   "execution_count": null,
   "id": "857cc273",
   "metadata": {},
   "outputs": [],
   "source": [
    "# set path to last step clustering output directory\n",
    "ip_dir_pth = 'SLC_1/'\n",
    "# set path to directory of clustering output\n",
    "SLC_inter_op_dir_pth = 'SLC_2/'\n",
    "# how many jobs to parallel\n",
    "process_number = 10\n",
    "# Compression size\n",
    "compression_size = 2"
   ]
  },
  {
   "cell_type": "markdown",
   "id": "784928e3",
   "metadata": {},
   "source": [
    "Then run the codes below."
   ]
  },
  {
   "cell_type": "code",
   "execution_count": null,
   "id": "18b11f10",
   "metadata": {},
   "outputs": [],
   "source": [
    "SLC(ip_dir_pth, SLC_inter_op_dir_pth, process_number, compression_size)"
   ]
  },
  {
   "cell_type": "markdown",
   "id": "a8d5f8b9",
   "metadata": {},
   "source": [
    "#### Set path\n",
    "* Set variable `ip_dir_pth` as path to output directory of last round clustering.\n",
    "* Set variable `SLC_inter_op_dir_pth` as path to output directory.\n",
    "* Set variable `process_number` thread number.\n",
    "* Set variable `compression_size` as how many files to cluster into one file."
   ]
  },
  {
   "cell_type": "code",
   "execution_count": null,
   "id": "9435d297",
   "metadata": {},
   "outputs": [],
   "source": [
    "# set path to last step clustering output directory\n",
    "ip_dir_pth = 'SLC_2/'\n",
    "# set path to directory of each clustering output\n",
    "SLC_inter_op_dir_pth = 'SLC_final/'\n",
    "# how many jobs to parallel\n",
    "process_number = 10\n",
    "# Compression size\n",
    "compression_size = len(os.listdir(ip_dir_pth))"
   ]
  },
  {
   "cell_type": "markdown",
   "id": "0e4acf16",
   "metadata": {},
   "source": [
    "Then run the codes below."
   ]
  },
  {
   "cell_type": "code",
   "execution_count": null,
   "id": "032030ea",
   "metadata": {},
   "outputs": [],
   "source": [
    "SLC(ip_dir_pth, SLC_inter_op_dir_pth, process_number, compression_size)"
   ]
  },
  {
   "cell_type": "markdown",
   "id": "e1184e02",
   "metadata": {},
   "source": [
    "## Step 8 Write clusters into FASTA\n",
    "In Step 8, program will help user to generate FASTA file for each cluster. By providing the final one cluster file generated by Step 7 as input, program produces 3 types of clusters into 3 directories separately.<br>\n",
    "\n",
    "Noteably, those genomes \n",
    "* depreplicated in **Step 2**,  \n",
    "* not removed because of too low genome size\n",
    "* participated processes up to this step, \n",
    "\n",
    "are used to separate 3 types of clusters.<br>\n",
    "\n",
    "1. In drectory `accessory_cluster`(a cluster not shared by all genomes), FASTA files of clusters, which **do not have genes from all genomes** participated analysis, will be output in this drectory. For example, there are 100 genomes in analysis, a cluster with less than 100 genes will have its FASTA output here. Also, if a cluster has >= 100 genes, but all these genes are from less than 100 genomes, its FASTA will be in this directory.\n",
    "2. In drectory `strict_core`, each cluster has **exactly 1 gene from every genome** to analyze. Such clusters will have their FASTA files here.\n",
    "3. In drectory `surplus_core`, each cluster has **at least 1 gene from every genome** to analyze, and **some genomes has more than 1 genes** in this cluster. Such clusters will have their FASTA files here."
   ]
  },
  {
   "cell_type": "markdown",
   "id": "a5b1c261",
   "metadata": {},
   "source": [
    "### define functions"
   ]
  },
  {
   "cell_type": "code",
   "execution_count": null,
   "id": "c6711e34",
   "metadata": {},
   "outputs": [],
   "source": [
    "def write_a_cluster(a_cluster_of_genes, \n",
    "                    total_amount, \n",
    "                    which_to_write, \n",
    "                    op_path,\n",
    "                    fasta_dict,\n",
    "                    ):\n",
    "    spe_count = len([x[0: 5] for x in a_cluster_of_genes])\n",
    "    \n",
    "    if spe_count < total_amount:\n",
    "        if which_to_write[\"accessory_cluster\"]:\n",
    "            file_naam = os.path.join(op_path, 'accessory_cluster/' \n",
    "                                     + a_cluster_of_genes[0] \n",
    "                                     + '.fasta'\n",
    "                                    )\n",
    "        else:\n",
    "            return\n",
    "    else:\n",
    "        if len(a_cluster_of_genes) == total_amount:\n",
    "            if which_to_write[\"strict_core\"]:\n",
    "                file_naam = os.path.join(op_path, 'strict_core/' \n",
    "                                         + a_cluster_of_genes[0] \n",
    "                                         + '.fasta'\n",
    "                                        )\n",
    "            else:\n",
    "                return\n",
    "        else:\n",
    "            if which_to_write[\"surplus_core\"]:\n",
    "                file_naam = os.path.join(op_path, 'surplus_core/' \n",
    "                                         + a_cluster_of_genes[0] \n",
    "                                         + '.fasta'\n",
    "                                        )\n",
    "            else:\n",
    "                return\n",
    "            \n",
    "    \n",
    "    to_save = []\n",
    "    for  recs in a_cluster_of_genes:\n",
    "        to_save.append(fasta_dict[recs])\n",
    "        \n",
    "    SeqIO.write(to_save, \n",
    "                file_naam, \n",
    "                'fasta')\n",
    "\n",
    "def write_cluster_s(lst_of_a_clusters, \n",
    "                    total_amount_, \n",
    "                    which_to_write_, \n",
    "                    op_path_, \n",
    "                    fasta_dict_):\n",
    "    \n",
    "    for a_cl in lst_of_a_clusters:\n",
    "        write_a_cluster(a_cl, \n",
    "                        total_amount_,\n",
    "                        which_to_write_,\n",
    "                        op_path_,\n",
    "                        fasta_dict_)"
   ]
  },
  {
   "cell_type": "markdown",
   "id": "610b01c1",
   "metadata": {},
   "source": [
    "#### Set path\n",
    "* Set variable `final_cluster_path` as path to the final cluster file made by Step 7.\n",
    "* Set variable `output_path` as path to output directory.\n",
    "* Set variable `process_number` thread number.\n",
    "* Set variable `cluster_type` select from `accessory/strict/surplus`, separate by comma (`,`).\n",
    "* Set variable `cated_fasta_path` as path to concatenated FASTA file made in Step 3."
   ]
  },
  {
   "cell_type": "code",
   "execution_count": null,
   "id": "165600cb",
   "metadata": {},
   "outputs": [],
   "source": [
    "# set path to the final cluster file made by Step 7\n",
    "final_cluster_path = '/SLC_final/0.txt'\n",
    "# set path to output directory\n",
    "output_path = ''\n",
    "# how many jobs to parallel\n",
    "process_number = 10\n",
    "# select at least 1 from `accessory/strict/surplus`, separate by comma (`,`), \n",
    "# specifying types of clusters to write\n",
    "cluster_type = 'accessory,strict,surplus'\n",
    "# set path to concatenated FASTA file made in Step 3.\n",
    "cated_fasta_path = ''"
   ]
  },
  {
   "cell_type": "markdown",
   "id": "26c269e4",
   "metadata": {},
   "source": [
    "* Set variable `total_amount` of the how many genomes participated analysis."
   ]
  },
  {
   "cell_type": "code",
   "execution_count": null,
   "id": "6681aefd",
   "metadata": {
    "code_folding": []
   },
   "outputs": [],
   "source": [
    "# directory path of output\n",
    "dereped_dir_path = ''\n",
    "\n",
    "print(len(os.listdir(dereped_dir_path)\n",
    "         )\n",
    "     )"
   ]
  },
  {
   "cell_type": "code",
   "execution_count": null,
   "id": "8238d0d3",
   "metadata": {},
   "outputs": [],
   "source": [
    "# how many genomes participated analysis.\n",
    "total_amount = len(os.listdir(dereped_dir_path)\n",
    "                      )"
   ]
  },
  {
   "cell_type": "markdown",
   "id": "24d4140c",
   "metadata": {},
   "source": [
    "#### run the codes below get final FASTA files"
   ]
  },
  {
   "cell_type": "code",
   "execution_count": null,
   "id": "9339773d",
   "metadata": {},
   "outputs": [],
   "source": [
    "# mkdir or not\n",
    "if os.path.exists(output_path):\n",
    "    pass\n",
    "else:\n",
    "    os.mkdir(output_path)\n",
    "    \n",
    "cated_fasta = SeqIO.to_dict(SeqIO.parse(cated_fasta_path, \n",
    "                                        'fasta'\n",
    "                                       )\n",
    "                           )\n",
    "\n",
    "types_to_write = {\n",
    "    'accessory_cluster': False,\n",
    "    'strict_core': False,\n",
    "    'surplus_core': False\n",
    "}\n",
    "for x in cluster_type.split(','):\n",
    "    if x == 'accessory':\n",
    "        types_to_write['accessory_cluster'] = True\n",
    "        if os.path.exists(os.path.join(output_path, 'accessory_cluster')):\n",
    "            pass\n",
    "        else:\n",
    "            os.mkdir(os.path.join(output_path, 'accessory_cluster'))\n",
    "    \n",
    "    elif x == 'strict':\n",
    "        types_to_write['strict_core'] = True\n",
    "        if os.path.exists(os.path.join(output_path, 'strict_core')):\n",
    "            pass\n",
    "        else:\n",
    "            os.mkdir(os.path.join(output_path, 'strict_core'))\n",
    "            \n",
    "    elif x == 'surplus':\n",
    "        types_to_write['surplus_core'] = True\n",
    "        if os.path.exists(os.path.join(output_path, 'surplus_core')):\n",
    "            pass\n",
    "        else:\n",
    "            os.mkdir(os.path.join(output_path, 'surplus_core'))\n",
    "        \n",
    "    \n",
    "        \n",
    "f = open(final_cluster_path, 'r')\n",
    "CLUSTERS = f.readlines()\n",
    "f.close()\n",
    "\n",
    "print(time.asctime())\n",
    "\n",
    "if __name__ == \"__main__\":\n",
    "    \n",
    "    mission_lst = [x.rstrip('\\n').split('\\t') for x in CLUSTERS]\n",
    "    \n",
    "    mission_lst = list(np.array_split(mission_lst, \n",
    "                                      process_number\n",
    "                                     )\n",
    "                      )\n",
    "    \n",
    "    # mp\n",
    "             \n",
    "    jobs = []\n",
    "    \n",
    "    for sub_mission_lst in mission_lst:\n",
    "        \n",
    "        p = Process(target = write_cluster_s,\n",
    "                    args = (sub_mission_lst,\n",
    "                            total_amount,\n",
    "                            types_to_write,\n",
    "                            output_path,\n",
    "                            cated_fasta\n",
    "                           )\n",
    "                   )\n",
    "            \n",
    "        p.start()\n",
    "        jobs.append(p)\n",
    "\n",
    "\n",
    "    for z in jobs:\n",
    "        z.join()\n",
    "        \n",
    "print(time.asctime())"
   ]
  }
 ],
 "metadata": {
  "kernelspec": {
   "display_name": "Python 3 (ipykernel)",
   "language": "python",
   "name": "python3"
  },
  "language_info": {
   "codemirror_mode": {
    "name": "ipython",
    "version": 3
   },
   "file_extension": ".py",
   "mimetype": "text/x-python",
   "name": "python",
   "nbconvert_exporter": "python",
   "pygments_lexer": "ipython3",
   "version": "3.10.2"
  },
  "toc": {
   "base_numbering": 1,
   "nav_menu": {},
   "number_sections": true,
   "sideBar": true,
   "skip_h1_title": false,
   "title_cell": "Table of Contents",
   "title_sidebar": "Contents",
   "toc_cell": false,
   "toc_position": {
    "height": "calc(100% - 180px)",
    "left": "10px",
    "top": "150px",
    "width": "194px"
   },
   "toc_section_display": true,
   "toc_window_display": true
  }
 },
 "nbformat": 4,
 "nbformat_minor": 5
}
